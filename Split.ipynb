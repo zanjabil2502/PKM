{
 "cells": [
  {
   "cell_type": "code",
   "execution_count": 1,
   "metadata": {
    "colab": {
     "base_uri": "https://localhost:8080/"
    },
    "executionInfo": {
     "elapsed": 4883,
     "status": "ok",
     "timestamp": 1629189508990,
     "user": {
      "displayName": "Zanjabila _",
      "photoUrl": "",
      "userId": "18022974806779372296"
     },
     "user_tz": -420
    },
    "id": "bXEnXheX_gpc",
    "outputId": "5045f78f-b250-41ea-a6ba-1950ef928dd3"
   },
   "outputs": [
    {
     "name": "stdout",
     "output_type": "stream",
     "text": [
      "Defaulting to user installation because normal site-packages is not writeable\n",
      "\u001b[33mWARNING: Keyring is skipped due to an exception: Failed to unlock the collection!\u001b[0m\n",
      "Collecting split-folders\n",
      "  Downloading split_folders-0.4.3-py3-none-any.whl (7.4 kB)\n",
      "Installing collected packages: split-folders\n",
      "Successfully installed split-folders-0.4.3\n"
     ]
    }
   ],
   "source": [
    "!pip install split-folders"
   ]
  },
  {
   "cell_type": "code",
   "execution_count": 1,
   "metadata": {
    "executionInfo": {
     "elapsed": 18,
     "status": "ok",
     "timestamp": 1629189508993,
     "user": {
      "displayName": "Zanjabila _",
      "photoUrl": "",
      "userId": "18022974806779372296"
     },
     "user_tz": -420
    },
    "id": "A9jyV_df_i-W"
   },
   "outputs": [],
   "source": [
    "import splitfolders\n",
    "import os\n",
    "import pandas as pd"
   ]
  },
  {
   "cell_type": "code",
   "execution_count": 2,
   "metadata": {
    "colab": {
     "base_uri": "https://localhost:8080/",
     "height": 335
    },
    "executionInfo": {
     "elapsed": 376,
     "status": "error",
     "timestamp": 1629189927616,
     "user": {
      "displayName": "Zanjabila _",
      "photoUrl": "",
      "userId": "18022974806779372296"
     },
     "user_tz": -420
    },
    "id": "DqMGNVkl_lWv",
    "outputId": "05151364-2187-4fec-a00c-963e772f4bd9"
   },
   "outputs": [],
   "source": [
    "os.makedirs('data_coding3/new/split')\n",
    "os.makedirs('data_coding3/new/split/train')\n",
    "os.makedirs('data_coding3/new/split/val')"
   ]
  },
  {
   "cell_type": "code",
   "execution_count": 4,
   "metadata": {
    "colab": {
     "base_uri": "https://localhost:8080/"
    },
    "executionInfo": {
     "elapsed": 428385,
     "status": "ok",
     "timestamp": 1629168715857,
     "user": {
      "displayName": "Zanjabila _",
      "photoUrl": "",
      "userId": "18022974806779372296"
     },
     "user_tz": -420
    },
    "id": "aE5zC5Eu_rSQ",
    "outputId": "b8618e21-fbba-4e48-efb2-686591279512"
   },
   "outputs": [],
   "source": [
    "audio_loc = 'data_coding3/new/output'\n",
    "splitfolders.ratio(audio_loc, output='data_coding3/new/split', seed=1337, ratio=(0.8, 0.2))"
   ]
  },
  {
   "cell_type": "code",
   "execution_count": 22,
   "metadata": {
    "executionInfo": {
     "elapsed": 918,
     "status": "ok",
     "timestamp": 1629189940335,
     "user": {
      "displayName": "Zanjabila _",
      "photoUrl": "",
      "userId": "18022974806779372296"
     },
     "user_tz": -420
    },
    "id": "uu7drY-Z_ztx"
   },
   "outputs": [],
   "source": [
    "os.makedirs('data_coding3/split_3folder')"
   ]
  },
  {
   "cell_type": "code",
   "execution_count": 23,
   "metadata": {
    "colab": {
     "base_uri": "https://localhost:8080/"
    },
    "executionInfo": {
     "elapsed": 96158,
     "status": "ok",
     "timestamp": 1629190039875,
     "user": {
      "displayName": "Zanjabila _",
      "photoUrl": "",
      "userId": "18022974806779372296"
     },
     "user_tz": -420
    },
    "id": "PvBXLslAFc87",
    "outputId": "5a6b3fa6-bde9-46fd-c705-863b22b73a99"
   },
   "outputs": [],
   "source": [
    "audio_loc = 'data_coding3/split/val'\n",
    "splitfolders.ratio(audio_loc, output='data_coding3/split_3folder', seed=1337, ratio=(0.5, 0.5))"
   ]
  },
  {
   "cell_type": "code",
   "execution_count": 24,
   "metadata": {
    "colab": {
     "base_uri": "https://localhost:8080/"
    },
    "executionInfo": {
     "elapsed": 321623,
     "status": "ok",
     "timestamp": 1629190446452,
     "user": {
      "displayName": "Zanjabila _",
      "photoUrl": "",
      "userId": "18022974806779372296"
     },
     "user_tz": -420
    },
    "id": "4r4AhxZmFjZc",
    "outputId": "d0162764-03c9-440c-bbca-84b2ea903606"
   },
   "outputs": [],
   "source": [
    "audio_loc = 'data_coding3/split/train'\n",
    "splitfolders.ratio(audio_loc, output='data_coding3/split_3folder', seed=1337, ratio=(1, 0))"
   ]
  },
  {
   "cell_type": "code",
   "execution_count": 25,
   "metadata": {
    "executionInfo": {
     "elapsed": 583,
     "status": "ok",
     "timestamp": 1629190518904,
     "user": {
      "displayName": "Zanjabila _",
      "photoUrl": "",
      "userId": "18022974806779372296"
     },
     "user_tz": -420
    },
    "id": "y8VJjNJfJCth"
   },
   "outputs": [],
   "source": [
    "a = 0\n",
    "b = 0\n",
    "count = []\n",
    "num = []\n",
    "folder = []\n",
    "name = []\n",
    "for f in os.listdir('data_coding3/split_3folder/'):\n",
    "  for i in os.listdir('data_coding3/split_3folder/'+f):\n",
    "    for x in os.listdir('data_coding3/split_3folder/'+f+'/'+ i):\n",
    "      a = a + 1\n",
    "      b = b + 1\n",
    "    num.append(b)\n",
    "    name.append(i)\n",
    "    b = 0\n",
    "  count.append(a)\n",
    "  folder.append(f)\n",
    "  a = 0 \n",
    "\n"
   ]
  },
  {
   "cell_type": "code",
   "execution_count": 26,
   "metadata": {
    "colab": {
     "base_uri": "https://localhost:8080/"
    },
    "executionInfo": {
     "elapsed": 498,
     "status": "ok",
     "timestamp": 1629190583092,
     "user": {
      "displayName": "Zanjabila _",
      "photoUrl": "",
      "userId": "18022974806779372296"
     },
     "user_tz": -420
    },
    "id": "Br23L1cnQ3z8",
    "outputId": "3ae40e99-d49c-450d-b120-36b4b12c82ad"
   },
   "outputs": [
    {
     "name": "stdout",
     "output_type": "stream",
     "text": [
      "[24, 3, 10, 28, 32, 1, 16, 575, 25, 4, 11, 29, 33, 1, 16, 575, 194, 25, 83, 228, 257, 4, 128, 4596]\n",
      "['URTI', 'LRTI', 'Bronchiectasis', 'Pneumonia', 'Healthy', 'Asthma', 'Bronchiolitis', 'COPD', 'URTI', 'LRTI', 'Bronchiectasis', 'Pneumonia', 'Healthy', 'Asthma', 'Bronchiolitis', 'COPD', 'URTI', 'LRTI', 'Bronchiectasis', 'Pneumonia', 'Healthy', 'Asthma', 'Bronchiolitis', 'COPD']\n"
     ]
    }
   ],
   "source": [
    "print(num)\n",
    "print(name)"
   ]
  },
  {
   "cell_type": "code",
   "execution_count": 27,
   "metadata": {
    "colab": {
     "base_uri": "https://localhost:8080/"
    },
    "executionInfo": {
     "elapsed": 10,
     "status": "ok",
     "timestamp": 1629190583546,
     "user": {
      "displayName": "Zanjabila _",
      "photoUrl": "",
      "userId": "18022974806779372296"
     },
     "user_tz": -420
    },
    "id": "aiAijuMER-mI",
    "outputId": "e01e4db4-bde2-427a-8c4d-1b616a3ec6f2"
   },
   "outputs": [
    {
     "name": "stdout",
     "output_type": "stream",
     "text": [
      "[689, 694, 5515]\n",
      "['test', 'val', 'train']\n"
     ]
    }
   ],
   "source": [
    "print(count)\n",
    "print(folder)"
   ]
  },
  {
   "cell_type": "code",
   "execution_count": 28,
   "metadata": {
    "executionInfo": {
     "elapsed": 397,
     "status": "ok",
     "timestamp": 1629190591630,
     "user": {
      "displayName": "Zanjabila _",
      "photoUrl": "",
      "userId": "18022974806779372296"
     },
     "user_tz": -420
    },
    "id": "yr0b-d0OSBOk"
   },
   "outputs": [],
   "source": [
    "a = 0\n",
    "num_train = []\n",
    "name_train = []\n",
    "for i in os.listdir('data_coding3/split_3folder/train'):\n",
    "  for x in os.listdir('data_coding3/split_3folder/train/'+i):\n",
    "    a = a + 1\n",
    "  num_train.append(a)\n",
    "  name_train.append(i)\n",
    "  a = 0"
   ]
  },
  {
   "cell_type": "code",
   "execution_count": 29,
   "metadata": {
    "colab": {
     "base_uri": "https://localhost:8080/"
    },
    "executionInfo": {
     "elapsed": 594,
     "status": "ok",
     "timestamp": 1629190598353,
     "user": {
      "displayName": "Zanjabila _",
      "photoUrl": "",
      "userId": "18022974806779372296"
     },
     "user_tz": -420
    },
    "id": "nfsjRMiJSEaT",
    "outputId": "3c9a9573-03e3-42e7-f124-21967aac85be"
   },
   "outputs": [
    {
     "name": "stdout",
     "output_type": "stream",
     "text": [
      "[194, 25, 83, 228, 257, 4, 128, 4596]\n",
      "['URTI', 'LRTI', 'Bronchiectasis', 'Pneumonia', 'Healthy', 'Asthma', 'Bronchiolitis', 'COPD']\n"
     ]
    }
   ],
   "source": [
    "print(num_train)\n",
    "print(name_train)"
   ]
  },
  {
   "cell_type": "code",
   "execution_count": 30,
   "metadata": {
    "executionInfo": {
     "elapsed": 8,
     "status": "ok",
     "timestamp": 1629190614345,
     "user": {
      "displayName": "Zanjabila _",
      "photoUrl": "",
      "userId": "18022974806779372296"
     },
     "user_tz": -420
    },
    "id": "i6eDWaTkU6nc"
   },
   "outputs": [],
   "source": [
    "a = 0\n",
    "num_val = []\n",
    "name_val = []\n",
    "for i in os.listdir('data_coding3/split_3folder/val'):\n",
    "  for x in os.listdir('data_coding3/split_3folder/val/'+i):\n",
    "    a = a + 1\n",
    "  num_val.append(a)\n",
    "  name_val.append(i)\n",
    "  a = 0"
   ]
  },
  {
   "cell_type": "code",
   "execution_count": 31,
   "metadata": {
    "colab": {
     "base_uri": "https://localhost:8080/"
    },
    "executionInfo": {
     "elapsed": 417,
     "status": "ok",
     "timestamp": 1629190622519,
     "user": {
      "displayName": "Zanjabila _",
      "photoUrl": "",
      "userId": "18022974806779372296"
     },
     "user_tz": -420
    },
    "id": "GIb6nQ9xU8DS",
    "outputId": "56eb067b-43b5-4174-cdd6-3e84cd76eedb"
   },
   "outputs": [
    {
     "name": "stdout",
     "output_type": "stream",
     "text": [
      "[25, 4, 11, 29, 33, 1, 16, 575]\n",
      "['URTI', 'LRTI', 'Bronchiectasis', 'Pneumonia', 'Healthy', 'Asthma', 'Bronchiolitis', 'COPD']\n"
     ]
    }
   ],
   "source": [
    "print(num_val)\n",
    "print(name_val)"
   ]
  },
  {
   "cell_type": "code",
   "execution_count": 32,
   "metadata": {
    "executionInfo": {
     "elapsed": 622,
     "status": "ok",
     "timestamp": 1629190640395,
     "user": {
      "displayName": "Zanjabila _",
      "photoUrl": "",
      "userId": "18022974806779372296"
     },
     "user_tz": -420
    },
    "id": "OKGxBnYPVAjn"
   },
   "outputs": [],
   "source": [
    "a = 0\n",
    "num_test = []\n",
    "name_test = []\n",
    "for i in os.listdir('data_coding3/split_3folder/test'):\n",
    "  for x in os.listdir('data_coding3/split_3folder/test/'+i):\n",
    "    a = a + 1\n",
    "  num_test.append(a)\n",
    "  name_test.append(i)\n",
    "  a = 0"
   ]
  },
  {
   "cell_type": "code",
   "execution_count": 33,
   "metadata": {
    "colab": {
     "base_uri": "https://localhost:8080/"
    },
    "executionInfo": {
     "elapsed": 612,
     "status": "ok",
     "timestamp": 1629190647310,
     "user": {
      "displayName": "Zanjabila _",
      "photoUrl": "",
      "userId": "18022974806779372296"
     },
     "user_tz": -420
    },
    "id": "yOVANvzhVE2R",
    "outputId": "aa721be2-1971-4117-8add-077de6cde773"
   },
   "outputs": [
    {
     "name": "stdout",
     "output_type": "stream",
     "text": [
      "[24, 3, 10, 28, 32, 1, 16, 575]\n",
      "['URTI', 'LRTI', 'Bronchiectasis', 'Pneumonia', 'Healthy', 'Asthma', 'Bronchiolitis', 'COPD']\n"
     ]
    }
   ],
   "source": [
    "print(num_test)\n",
    "print(name_test)"
   ]
  },
  {
   "cell_type": "code",
   "execution_count": 34,
   "metadata": {
    "colab": {
     "base_uri": "https://localhost:8080/",
     "height": 299
    },
    "executionInfo": {
     "elapsed": 535,
     "status": "ok",
     "timestamp": 1629190656907,
     "user": {
      "displayName": "Zanjabila _",
      "photoUrl": "",
      "userId": "18022974806779372296"
     },
     "user_tz": -420
    },
    "id": "rEpxT2TCVGje",
    "outputId": "8b13bcea-f76c-4204-9547-7f26e95b375a"
   },
   "outputs": [
    {
     "data": {
      "text/html": [
       "<div>\n",
       "<style scoped>\n",
       "    .dataframe tbody tr th:only-of-type {\n",
       "        vertical-align: middle;\n",
       "    }\n",
       "\n",
       "    .dataframe tbody tr th {\n",
       "        vertical-align: top;\n",
       "    }\n",
       "\n",
       "    .dataframe thead th {\n",
       "        text-align: right;\n",
       "    }\n",
       "</style>\n",
       "<table border=\"1\" class=\"dataframe\">\n",
       "  <thead>\n",
       "    <tr style=\"text-align: right;\">\n",
       "      <th></th>\n",
       "      <th>Categories</th>\n",
       "      <th>Data Train</th>\n",
       "      <th>Data Validasi</th>\n",
       "      <th>Data Test</th>\n",
       "    </tr>\n",
       "  </thead>\n",
       "  <tbody>\n",
       "    <tr>\n",
       "      <th>0</th>\n",
       "      <td>URTI</td>\n",
       "      <td>194</td>\n",
       "      <td>25</td>\n",
       "      <td>24</td>\n",
       "    </tr>\n",
       "    <tr>\n",
       "      <th>1</th>\n",
       "      <td>LRTI</td>\n",
       "      <td>25</td>\n",
       "      <td>4</td>\n",
       "      <td>3</td>\n",
       "    </tr>\n",
       "    <tr>\n",
       "      <th>2</th>\n",
       "      <td>Bronchiectasis</td>\n",
       "      <td>83</td>\n",
       "      <td>11</td>\n",
       "      <td>10</td>\n",
       "    </tr>\n",
       "    <tr>\n",
       "      <th>3</th>\n",
       "      <td>Pneumonia</td>\n",
       "      <td>228</td>\n",
       "      <td>29</td>\n",
       "      <td>28</td>\n",
       "    </tr>\n",
       "    <tr>\n",
       "      <th>4</th>\n",
       "      <td>Healthy</td>\n",
       "      <td>257</td>\n",
       "      <td>33</td>\n",
       "      <td>32</td>\n",
       "    </tr>\n",
       "    <tr>\n",
       "      <th>5</th>\n",
       "      <td>Asthma</td>\n",
       "      <td>4</td>\n",
       "      <td>1</td>\n",
       "      <td>1</td>\n",
       "    </tr>\n",
       "    <tr>\n",
       "      <th>6</th>\n",
       "      <td>Bronchiolitis</td>\n",
       "      <td>128</td>\n",
       "      <td>16</td>\n",
       "      <td>16</td>\n",
       "    </tr>\n",
       "    <tr>\n",
       "      <th>7</th>\n",
       "      <td>COPD</td>\n",
       "      <td>4596</td>\n",
       "      <td>575</td>\n",
       "      <td>575</td>\n",
       "    </tr>\n",
       "  </tbody>\n",
       "</table>\n",
       "</div>"
      ],
      "text/plain": [
       "       Categories  Data Train  Data Validasi  Data Test\n",
       "0            URTI         194             25         24\n",
       "1            LRTI          25              4          3\n",
       "2  Bronchiectasis          83             11         10\n",
       "3       Pneumonia         228             29         28\n",
       "4         Healthy         257             33         32\n",
       "5          Asthma           4              1          1\n",
       "6   Bronchiolitis         128             16         16\n",
       "7            COPD        4596            575        575"
      ]
     },
     "execution_count": 34,
     "metadata": {},
     "output_type": "execute_result"
    }
   ],
   "source": [
    "datas = {'Categories': name_train,\n",
    "        'Data Train': num_train, \n",
    "         'Data Validasi': num_val,\n",
    "         'Data Test': num_test,\n",
    "        }\n",
    "df = pd.DataFrame(datas, columns = ['Categories', 'Data Train', 'Data Validasi','Data Test'])\n",
    "df.head(8)"
   ]
  },
  {
   "cell_type": "code",
   "execution_count": null,
   "metadata": {
    "id": "rfkYj-bdVI9U"
   },
   "outputs": [],
   "source": []
  },
  {
   "cell_type": "code",
   "execution_count": null,
   "metadata": {},
   "outputs": [],
   "source": []
  }
 ],
 "metadata": {
  "colab": {
   "authorship_tag": "ABX9TyNNBP48Sqb1KNbWRiZv73OG",
   "name": "Split",
   "provenance": []
  },
  "kernelspec": {
   "display_name": "Python 3",
   "language": "python",
   "name": "python3"
  },
  "language_info": {
   "codemirror_mode": {
    "name": "ipython",
    "version": 3
   },
   "file_extension": ".py",
   "mimetype": "text/x-python",
   "name": "python",
   "nbconvert_exporter": "python",
   "pygments_lexer": "ipython3",
   "version": "3.9.5"
  }
 },
 "nbformat": 4,
 "nbformat_minor": 1
}
